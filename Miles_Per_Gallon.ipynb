{
  "nbformat": 4,
  "nbformat_minor": 0,
  "metadata": {
    "colab": {
      "name": "Miles_Per_Gallon.ipynb",
      "provenance": [],
      "collapsed_sections": []
    },
    "kernelspec": {
      "name": "python3",
      "display_name": "Python 3"
    },
    "language_info": {
      "name": "python"
    }
  },
  "cells": [
    {
      "cell_type": "markdown",
      "metadata": {
        "id": "diMJfSMsnQX_"
      },
      "source": [
        "Importing the essential libraries and data"
      ]
    },
    {
      "cell_type": "code",
      "metadata": {
        "id": "RWpcOyMhVVrz"
      },
      "source": [
        "import numpy as np\n",
        "import pandas as pd\n",
        "import matplotlib.pyplot as plt\n",
        "import seaborn as sns\n",
        "\n",
        "from sklearn.model_selection import StratifiedShuffleSplit\n",
        "from sklearn.base import BaseEstimator, TransformerMixin\n",
        "from sklearn.pipeline import Pipeline\n",
        "\n",
        "from sklearn.impute import SimpleImputer\n",
        "from sklearn.preprocessing import StandardScaler, OneHotEncoder\n",
        "from sklearn.compose import ColumnTransformer\n",
        "\n",
        "\n",
        "\n",
        "import warnings\n",
        "warnings.filterwarnings('ignore')"
      ],
      "execution_count": 72,
      "outputs": []
    },
    {
      "cell_type": "code",
      "metadata": {
        "id": "KMr3jkyIVnw-"
      },
      "source": [
        "# reading the .data file using pandas\n",
        "\n",
        "cols = ['MPG','Cylinders','Displacement','Horsepower','Weight',\n",
        "                'Acceleration', 'Model Year', 'Origin']\n",
        "\n",
        "df = pd.read_csv('./auto-mpg.data', names=cols, na_values = \"?\",\n",
        "                comment = '\\t',\n",
        "                sep= \" \",\n",
        "                skipinitialspace=True)\n",
        "\n",
        "data = df.copy()"
      ],
      "execution_count": 73,
      "outputs": []
    },
    {
      "cell_type": "markdown",
      "metadata": {
        "id": "fHEFxgNOi7TX"
      },
      "source": [
        "### EDA"
      ]
    },
    {
      "cell_type": "markdown",
      "metadata": {
        "id": "dNdL5NsvncoZ"
      },
      "source": [
        "Exploratory data analysis"
      ]
    },
    {
      "cell_type": "code",
      "metadata": {
        "colab": {
          "base_uri": "https://localhost:8080/"
        },
        "id": "0bGb3TYxi7Tb",
        "outputId": "fe7bd8f9-f378-47f2-de33-eae21a265045"
      },
      "source": [
        "data.info()"
      ],
      "execution_count": 74,
      "outputs": [
        {
          "output_type": "stream",
          "text": [
            "<class 'pandas.core.frame.DataFrame'>\n",
            "RangeIndex: 398 entries, 0 to 397\n",
            "Data columns (total 8 columns):\n",
            " #   Column        Non-Null Count  Dtype  \n",
            "---  ------        --------------  -----  \n",
            " 0   MPG           398 non-null    float64\n",
            " 1   Cylinders     398 non-null    int64  \n",
            " 2   Displacement  398 non-null    float64\n",
            " 3   Horsepower    392 non-null    float64\n",
            " 4   Weight        398 non-null    float64\n",
            " 5   Acceleration  398 non-null    float64\n",
            " 6   Model Year    398 non-null    int64  \n",
            " 7   Origin        398 non-null    int64  \n",
            "dtypes: float64(5), int64(3)\n",
            "memory usage: 25.0 KB\n"
          ],
          "name": "stdout"
        }
      ]
    },
    {
      "cell_type": "code",
      "metadata": {
        "colab": {
          "base_uri": "https://localhost:8080/"
        },
        "id": "xElXYbHbi7Tc",
        "outputId": "580fb1bb-fdfd-4b32-87d5-dec050d1730c"
      },
      "source": [
        "data.isnull().sum()"
      ],
      "execution_count": 75,
      "outputs": [
        {
          "output_type": "execute_result",
          "data": {
            "text/plain": [
              "MPG             0\n",
              "Cylinders       0\n",
              "Displacement    0\n",
              "Horsepower      6\n",
              "Weight          0\n",
              "Acceleration    0\n",
              "Model Year      0\n",
              "Origin          0\n",
              "dtype: int64"
            ]
          },
          "metadata": {
            "tags": []
          },
          "execution_count": 75
        }
      ]
    },
    {
      "cell_type": "code",
      "metadata": {
        "colab": {
          "base_uri": "https://localhost:8080/",
          "height": 297
        },
        "id": "2ndIuyugi7Tc",
        "outputId": "74f72a67-689c-4dd5-f776-d491604c9ad5"
      },
      "source": [
        "data.describe()"
      ],
      "execution_count": 76,
      "outputs": [
        {
          "output_type": "execute_result",
          "data": {
            "text/html": [
              "<div>\n",
              "<style scoped>\n",
              "    .dataframe tbody tr th:only-of-type {\n",
              "        vertical-align: middle;\n",
              "    }\n",
              "\n",
              "    .dataframe tbody tr th {\n",
              "        vertical-align: top;\n",
              "    }\n",
              "\n",
              "    .dataframe thead th {\n",
              "        text-align: right;\n",
              "    }\n",
              "</style>\n",
              "<table border=\"1\" class=\"dataframe\">\n",
              "  <thead>\n",
              "    <tr style=\"text-align: right;\">\n",
              "      <th></th>\n",
              "      <th>MPG</th>\n",
              "      <th>Cylinders</th>\n",
              "      <th>Displacement</th>\n",
              "      <th>Horsepower</th>\n",
              "      <th>Weight</th>\n",
              "      <th>Acceleration</th>\n",
              "      <th>Model Year</th>\n",
              "      <th>Origin</th>\n",
              "    </tr>\n",
              "  </thead>\n",
              "  <tbody>\n",
              "    <tr>\n",
              "      <th>count</th>\n",
              "      <td>398.000000</td>\n",
              "      <td>398.000000</td>\n",
              "      <td>398.000000</td>\n",
              "      <td>392.000000</td>\n",
              "      <td>398.000000</td>\n",
              "      <td>398.000000</td>\n",
              "      <td>398.000000</td>\n",
              "      <td>398.000000</td>\n",
              "    </tr>\n",
              "    <tr>\n",
              "      <th>mean</th>\n",
              "      <td>23.514573</td>\n",
              "      <td>5.454774</td>\n",
              "      <td>193.425879</td>\n",
              "      <td>104.469388</td>\n",
              "      <td>2970.424623</td>\n",
              "      <td>15.568090</td>\n",
              "      <td>76.010050</td>\n",
              "      <td>1.572864</td>\n",
              "    </tr>\n",
              "    <tr>\n",
              "      <th>std</th>\n",
              "      <td>7.815984</td>\n",
              "      <td>1.701004</td>\n",
              "      <td>104.269838</td>\n",
              "      <td>38.491160</td>\n",
              "      <td>846.841774</td>\n",
              "      <td>2.757689</td>\n",
              "      <td>3.697627</td>\n",
              "      <td>0.802055</td>\n",
              "    </tr>\n",
              "    <tr>\n",
              "      <th>min</th>\n",
              "      <td>9.000000</td>\n",
              "      <td>3.000000</td>\n",
              "      <td>68.000000</td>\n",
              "      <td>46.000000</td>\n",
              "      <td>1613.000000</td>\n",
              "      <td>8.000000</td>\n",
              "      <td>70.000000</td>\n",
              "      <td>1.000000</td>\n",
              "    </tr>\n",
              "    <tr>\n",
              "      <th>25%</th>\n",
              "      <td>17.500000</td>\n",
              "      <td>4.000000</td>\n",
              "      <td>104.250000</td>\n",
              "      <td>75.000000</td>\n",
              "      <td>2223.750000</td>\n",
              "      <td>13.825000</td>\n",
              "      <td>73.000000</td>\n",
              "      <td>1.000000</td>\n",
              "    </tr>\n",
              "    <tr>\n",
              "      <th>50%</th>\n",
              "      <td>23.000000</td>\n",
              "      <td>4.000000</td>\n",
              "      <td>148.500000</td>\n",
              "      <td>93.500000</td>\n",
              "      <td>2803.500000</td>\n",
              "      <td>15.500000</td>\n",
              "      <td>76.000000</td>\n",
              "      <td>1.000000</td>\n",
              "    </tr>\n",
              "    <tr>\n",
              "      <th>75%</th>\n",
              "      <td>29.000000</td>\n",
              "      <td>8.000000</td>\n",
              "      <td>262.000000</td>\n",
              "      <td>126.000000</td>\n",
              "      <td>3608.000000</td>\n",
              "      <td>17.175000</td>\n",
              "      <td>79.000000</td>\n",
              "      <td>2.000000</td>\n",
              "    </tr>\n",
              "    <tr>\n",
              "      <th>max</th>\n",
              "      <td>46.600000</td>\n",
              "      <td>8.000000</td>\n",
              "      <td>455.000000</td>\n",
              "      <td>230.000000</td>\n",
              "      <td>5140.000000</td>\n",
              "      <td>24.800000</td>\n",
              "      <td>82.000000</td>\n",
              "      <td>3.000000</td>\n",
              "    </tr>\n",
              "  </tbody>\n",
              "</table>\n",
              "</div>"
            ],
            "text/plain": [
              "              MPG   Cylinders  ...  Model Year      Origin\n",
              "count  398.000000  398.000000  ...  398.000000  398.000000\n",
              "mean    23.514573    5.454774  ...   76.010050    1.572864\n",
              "std      7.815984    1.701004  ...    3.697627    0.802055\n",
              "min      9.000000    3.000000  ...   70.000000    1.000000\n",
              "25%     17.500000    4.000000  ...   73.000000    1.000000\n",
              "50%     23.000000    4.000000  ...   76.000000    1.000000\n",
              "75%     29.000000    8.000000  ...   79.000000    2.000000\n",
              "max     46.600000    8.000000  ...   82.000000    3.000000\n",
              "\n",
              "[8 rows x 8 columns]"
            ]
          },
          "metadata": {
            "tags": []
          },
          "execution_count": 76
        }
      ]
    },
    {
      "cell_type": "code",
      "metadata": {
        "colab": {
          "base_uri": "https://localhost:8080/",
          "height": 296
        },
        "id": "MV4ahF0Ci7Td",
        "outputId": "6295f5c8-43e8-4f8b-f263-a1531e66c211"
      },
      "source": [
        "sns.boxplot(x=data['Horsepower'])"
      ],
      "execution_count": 77,
      "outputs": [
        {
          "output_type": "execute_result",
          "data": {
            "text/plain": [
              "<matplotlib.axes._subplots.AxesSubplot at 0x7f5186ff5f90>"
            ]
          },
          "metadata": {
            "tags": []
          },
          "execution_count": 77
        },
        {
          "output_type": "display_data",
          "data": {
            "image/png": "[encoded data removed]",
            "text/plain": [
              "<Figure size 432x288 with 1 Axes>"
            ]
          },
          "metadata": {
            "tags": [],
            "needs_background": "light"
          }
        }
      ]
    },
    {
      "cell_type": "markdown",
      "metadata": {
        "id": "3uWgteDOnjQj"
      },
      "source": [
        "Null values in Horsepower column are to be taken care of with median imputation. Here we don't use mean due to slightly skewed nature of datapoints."
      ]
    },
    {
      "cell_type": "code",
      "metadata": {
        "colab": {
          "base_uri": "https://localhost:8080/"
        },
        "id": "cL5_NQahi7Td",
        "outputId": "37cd0ecf-ac5b-4597-fec9-aa8fba8027b7"
      },
      "source": [
        "median = data['Horsepower'].median()\n",
        "data['Horsepower'] = data['Horsepower'].fillna(median) \n",
        "data.info()"
      ],
      "execution_count": 78,
      "outputs": [
        {
          "output_type": "stream",
          "text": [
            "<class 'pandas.core.frame.DataFrame'>\n",
            "RangeIndex: 398 entries, 0 to 397\n",
            "Data columns (total 8 columns):\n",
            " #   Column        Non-Null Count  Dtype  \n",
            "---  ------        --------------  -----  \n",
            " 0   MPG           398 non-null    float64\n",
            " 1   Cylinders     398 non-null    int64  \n",
            " 2   Displacement  398 non-null    float64\n",
            " 3   Horsepower    398 non-null    float64\n",
            " 4   Weight        398 non-null    float64\n",
            " 5   Acceleration  398 non-null    float64\n",
            " 6   Model Year    398 non-null    int64  \n",
            " 7   Origin        398 non-null    int64  \n",
            "dtypes: float64(5), int64(3)\n",
            "memory usage: 25.0 KB\n"
          ],
          "name": "stdout"
        }
      ]
    },
    {
      "cell_type": "code",
      "metadata": {
        "colab": {
          "base_uri": "https://localhost:8080/"
        },
        "id": "HS5dShQ7i7Td",
        "outputId": "656b0e58-2614-4230-d36a-e58b304cb964"
      },
      "source": [
        "data[\"Cylinders\"].value_counts()/len(data)"
      ],
      "execution_count": 79,
      "outputs": [
        {
          "output_type": "execute_result",
          "data": {
            "text/plain": [
              "4    0.512563\n",
              "8    0.258794\n",
              "6    0.211055\n",
              "3    0.010050\n",
              "5    0.007538\n",
              "Name: Cylinders, dtype: float64"
            ]
          },
          "metadata": {
            "tags": []
          },
          "execution_count": 79
        }
      ]
    },
    {
      "cell_type": "code",
      "metadata": {
        "colab": {
          "base_uri": "https://localhost:8080/"
        },
        "id": "lthzOEqFi7Td",
        "outputId": "3c9024c7-a700-4c9e-820d-8275478bd9ab"
      },
      "source": [
        "data[\"Origin\"].value_counts()/len(data)"
      ],
      "execution_count": 80,
      "outputs": [
        {
          "output_type": "execute_result",
          "data": {
            "text/plain": [
              "1    0.625628\n",
              "3    0.198492\n",
              "2    0.175879\n",
              "Name: Origin, dtype: float64"
            ]
          },
          "metadata": {
            "tags": []
          },
          "execution_count": 80
        }
      ]
    },
    {
      "cell_type": "code",
      "metadata": {
        "colab": {
          "base_uri": "https://localhost:8080/",
          "height": 920
        },
        "id": "M3cqKSPGi7Te",
        "outputId": "a2d9ec43-2d2a-4eb2-9902-204f515b2114"
      },
      "source": [
        "sns.pairplot(data[['MPG', 'Cylinders', 'Displacement', 'Horsepower','Weight']])"
      ],
      "execution_count": 81,
      "outputs": [
        {
          "output_type": "execute_result",
          "data": {
            "text/plain": [
              "<seaborn.axisgrid.PairGrid at 0x7f5186f8d690>"
            ]
          },
          "metadata": {
            "tags": []
          },
          "execution_count": 81
        },
        {
          "output_type": "display_data",
          "data": {
            "image/png": "[encoded data removed]",
            "text/plain": [
              "<Figure size 900x900 with 30 Axes>"
            ]
          },
          "metadata": {
            "tags": [],
            "needs_background": "light"
          }
        }
      ]
    },
    {
      "cell_type": "code",
      "metadata": {
        "id": "eruQHrexi7Te"
      },
      "source": [
        "corrMatrix = data.corr()"
      ],
      "execution_count": 82,
      "outputs": []
    },
    {
      "cell_type": "code",
      "metadata": {
        "colab": {
          "base_uri": "https://localhost:8080/",
          "height": 328
        },
        "id": "-mYjZmW9i7Te",
        "outputId": "4190b7a2-f5a8-470b-a3be-5a1300d79ae0"
      },
      "source": [
        "sns.heatmap(corrMatrix, annot=True)\n",
        "plt.show()"
      ],
      "execution_count": 83,
      "outputs": [
        {
          "output_type": "display_data",
          "data": {
            "image/png": "[encoded data removed]",
            "text/plain": [
              "<Figure size 432x288 with 2 Axes>"
            ]
          },
          "metadata": {
            "tags": [],
            "needs_background": "light"
          }
        }
      ]
    },
    {
      "cell_type": "markdown",
      "metadata": {
        "id": "Ih6HkRGjoNuH"
      },
      "source": [
        "Features Cylinders, Displacement, HP and Weight show very strong negative correlation with MPG value."
      ]
    },
    {
      "cell_type": "code",
      "metadata": {
        "colab": {
          "base_uri": "https://localhost:8080/"
        },
        "id": "Mk-DNXGFl7Pd",
        "outputId": "3b13a38d-c8f4-4c34-e952-46b3de25647d"
      },
      "source": [
        "data.info()"
      ],
      "execution_count": 84,
      "outputs": [
        {
          "output_type": "stream",
          "text": [
            "<class 'pandas.core.frame.DataFrame'>\n",
            "RangeIndex: 398 entries, 0 to 397\n",
            "Data columns (total 8 columns):\n",
            " #   Column        Non-Null Count  Dtype  \n",
            "---  ------        --------------  -----  \n",
            " 0   MPG           398 non-null    float64\n",
            " 1   Cylinders     398 non-null    int64  \n",
            " 2   Displacement  398 non-null    float64\n",
            " 3   Horsepower    398 non-null    float64\n",
            " 4   Weight        398 non-null    float64\n",
            " 5   Acceleration  398 non-null    float64\n",
            " 6   Model Year    398 non-null    int64  \n",
            " 7   Origin        398 non-null    int64  \n",
            "dtypes: float64(5), int64(3)\n",
            "memory usage: 25.0 KB\n"
          ],
          "name": "stdout"
        }
      ]
    },
    {
      "cell_type": "markdown",
      "metadata": {
        "id": "HAYEiAeyjF59"
      },
      "source": [
        "### Data Preparation"
      ]
    },
    {
      "cell_type": "code",
      "metadata": {
        "id": "d25O13JbjBmv"
      },
      "source": [
        "split = StratifiedShuffleSplit(n_splits=1, test_size=0.2, random_state=42)\n",
        "for train_index, test_index in split.split(data, data[\"Cylinders\"]):\n",
        "    strat_train_set = data.loc[train_index]\n",
        "    strat_test_set = data.loc[test_index]"
      ],
      "execution_count": 85,
      "outputs": []
    },
    {
      "cell_type": "code",
      "metadata": {
        "colab": {
          "base_uri": "https://localhost:8080/",
          "height": 419
        },
        "id": "c-d5B5UWV4tB",
        "outputId": "2839eb54-8946-4cf9-d287-7a649f908c17"
      },
      "source": [
        "##segregate the feature and target variable\n",
        "data = strat_train_set.drop(\"MPG\", axis=1)\n",
        "data_labels = strat_train_set[\"MPG\"].copy()\n",
        "data"
      ],
      "execution_count": 86,
      "outputs": [
        {
          "output_type": "execute_result",
          "data": {
            "text/html": [
              "<div>\n",
              "<style scoped>\n",
              "    .dataframe tbody tr th:only-of-type {\n",
              "        vertical-align: middle;\n",
              "    }\n",
              "\n",
              "    .dataframe tbody tr th {\n",
              "        vertical-align: top;\n",
              "    }\n",
              "\n",
              "    .dataframe thead th {\n",
              "        text-align: right;\n",
              "    }\n",
              "</style>\n",
              "<table border=\"1\" class=\"dataframe\">\n",
              "  <thead>\n",
              "    <tr style=\"text-align: right;\">\n",
              "      <th></th>\n",
              "      <th>Cylinders</th>\n",
              "      <th>Displacement</th>\n",
              "      <th>Horsepower</th>\n",
              "      <th>Weight</th>\n",
              "      <th>Acceleration</th>\n",
              "      <th>Model Year</th>\n",
              "      <th>Origin</th>\n",
              "    </tr>\n",
              "  </thead>\n",
              "  <tbody>\n",
              "    <tr>\n",
              "      <th>145</th>\n",
              "      <td>4</td>\n",
              "      <td>83.0</td>\n",
              "      <td>61.0</td>\n",
              "      <td>2003.0</td>\n",
              "      <td>19.0</td>\n",
              "      <td>74</td>\n",
              "      <td>3</td>\n",
              "    </tr>\n",
              "    <tr>\n",
              "      <th>151</th>\n",
              "      <td>4</td>\n",
              "      <td>79.0</td>\n",
              "      <td>67.0</td>\n",
              "      <td>2000.0</td>\n",
              "      <td>16.0</td>\n",
              "      <td>74</td>\n",
              "      <td>2</td>\n",
              "    </tr>\n",
              "    <tr>\n",
              "      <th>388</th>\n",
              "      <td>4</td>\n",
              "      <td>156.0</td>\n",
              "      <td>92.0</td>\n",
              "      <td>2585.0</td>\n",
              "      <td>14.5</td>\n",
              "      <td>82</td>\n",
              "      <td>1</td>\n",
              "    </tr>\n",
              "    <tr>\n",
              "      <th>48</th>\n",
              "      <td>6</td>\n",
              "      <td>250.0</td>\n",
              "      <td>88.0</td>\n",
              "      <td>3139.0</td>\n",
              "      <td>14.5</td>\n",
              "      <td>71</td>\n",
              "      <td>1</td>\n",
              "    </tr>\n",
              "    <tr>\n",
              "      <th>114</th>\n",
              "      <td>4</td>\n",
              "      <td>98.0</td>\n",
              "      <td>90.0</td>\n",
              "      <td>2265.0</td>\n",
              "      <td>15.5</td>\n",
              "      <td>73</td>\n",
              "      <td>2</td>\n",
              "    </tr>\n",
              "    <tr>\n",
              "      <th>...</th>\n",
              "      <td>...</td>\n",
              "      <td>...</td>\n",
              "      <td>...</td>\n",
              "      <td>...</td>\n",
              "      <td>...</td>\n",
              "      <td>...</td>\n",
              "      <td>...</td>\n",
              "    </tr>\n",
              "    <tr>\n",
              "      <th>147</th>\n",
              "      <td>4</td>\n",
              "      <td>90.0</td>\n",
              "      <td>75.0</td>\n",
              "      <td>2108.0</td>\n",
              "      <td>15.5</td>\n",
              "      <td>74</td>\n",
              "      <td>2</td>\n",
              "    </tr>\n",
              "    <tr>\n",
              "      <th>156</th>\n",
              "      <td>8</td>\n",
              "      <td>400.0</td>\n",
              "      <td>170.0</td>\n",
              "      <td>4668.0</td>\n",
              "      <td>11.5</td>\n",
              "      <td>75</td>\n",
              "      <td>1</td>\n",
              "    </tr>\n",
              "    <tr>\n",
              "      <th>395</th>\n",
              "      <td>4</td>\n",
              "      <td>135.0</td>\n",
              "      <td>84.0</td>\n",
              "      <td>2295.0</td>\n",
              "      <td>11.6</td>\n",
              "      <td>82</td>\n",
              "      <td>1</td>\n",
              "    </tr>\n",
              "    <tr>\n",
              "      <th>14</th>\n",
              "      <td>4</td>\n",
              "      <td>113.0</td>\n",
              "      <td>95.0</td>\n",
              "      <td>2372.0</td>\n",
              "      <td>15.0</td>\n",
              "      <td>70</td>\n",
              "      <td>3</td>\n",
              "    </tr>\n",
              "    <tr>\n",
              "      <th>362</th>\n",
              "      <td>6</td>\n",
              "      <td>146.0</td>\n",
              "      <td>120.0</td>\n",
              "      <td>2930.0</td>\n",
              "      <td>13.8</td>\n",
              "      <td>81</td>\n",
              "      <td>3</td>\n",
              "    </tr>\n",
              "  </tbody>\n",
              "</table>\n",
              "<p>318 rows × 7 columns</p>\n",
              "</div>"
            ],
            "text/plain": [
              "     Cylinders  Displacement  Horsepower  ...  Acceleration  Model Year  Origin\n",
              "145          4          83.0        61.0  ...          19.0          74       3\n",
              "151          4          79.0        67.0  ...          16.0          74       2\n",
              "388          4         156.0        92.0  ...          14.5          82       1\n",
              "48           6         250.0        88.0  ...          14.5          71       1\n",
              "114          4          98.0        90.0  ...          15.5          73       2\n",
              "..         ...           ...         ...  ...           ...         ...     ...\n",
              "147          4          90.0        75.0  ...          15.5          74       2\n",
              "156          8         400.0       170.0  ...          11.5          75       1\n",
              "395          4         135.0        84.0  ...          11.6          82       1\n",
              "14           4         113.0        95.0  ...          15.0          70       3\n",
              "362          6         146.0       120.0  ...          13.8          81       3\n",
              "\n",
              "[318 rows x 7 columns]"
            ]
          },
          "metadata": {
            "tags": []
          },
          "execution_count": 86
        }
      ]
    },
    {
      "cell_type": "markdown",
      "metadata": {
        "id": "Q_C-EbpOpejS"
      },
      "source": [
        "A function is prepared that would convert the numbered country of origin to Object type form. This will later be OneHot Encoded."
      ]
    },
    {
      "cell_type": "code",
      "metadata": {
        "id": "gbFN5TO8V4qA"
      },
      "source": [
        "##preprocess the Origin column in data\n",
        "def preprocess_origin_cols(df):\n",
        "    df[\"Origin\"] = df[\"Origin\"].map({1: \"India\", 2: \"USA\", 3: \"Germany\"})\n",
        "    return df"
      ],
      "execution_count": 87,
      "outputs": []
    },
    {
      "cell_type": "markdown",
      "metadata": {
        "id": "1MZJPJ3oqBFj"
      },
      "source": [
        "Creation of two new features, Acceleration time/Cylinder and Acceleration time/HP. These would help epxlore the feature interrelation and their effect on prediction. "
      ]
    },
    {
      "cell_type": "code",
      "metadata": {
        "id": "w8GZbgA0XShX"
      },
      "source": [
        "##creating custom attribute adder class\n",
        "acc_ix, hpower_ix, cyl_ix = 4,2, 0\n",
        "\n",
        "class CustomAttrAdder(BaseEstimator, TransformerMixin):\n",
        "    def __init__(self, acc_on_power=True): # no *args or **kargs\n",
        "        self.acc_on_power = acc_on_power\n",
        "    def fit(self, X, y=None):\n",
        "        return self  # nothing else to do\n",
        "    def transform(self, X):\n",
        "        acc_on_cyl = X[:, acc_ix] / X[:, cyl_ix]\n",
        "        if self.acc_on_power:\n",
        "            acc_on_power = X[:, acc_ix] / X[:, hpower_ix]\n",
        "            return np.c_[X, acc_on_power, acc_on_cyl]\n",
        "        \n",
        "        return np.c_[X, acc_on_cyl]"
      ],
      "execution_count": 88,
      "outputs": []
    },
    {
      "cell_type": "markdown",
      "metadata": {
        "id": "GRhFquKcmoHB"
      },
      "source": [
        "### Pipeline for data processing"
      ]
    },
    {
      "cell_type": "markdown",
      "metadata": {
        "id": "tLcxCC1Hqfji"
      },
      "source": [
        "Now numerical and categorical features are prepared seperately and unified in a single pipeline. This would take dataset and convert it into ready to train form."
      ]
    },
    {
      "cell_type": "code",
      "metadata": {
        "id": "pp_JwDXxWNKV"
      },
      "source": [
        "def num_pipeline_transformer(data):\n",
        "    '''\n",
        "    Function to process numerical transformations\n",
        "    Argument:\n",
        "        data: original dataframe \n",
        "    Returns:\n",
        "        num_attrs: numerical dataframe\n",
        "        num_pipeline: numerical pipeline object\n",
        "        \n",
        "    '''\n",
        "    numerics = ['float64', 'int64']\n",
        "\n",
        "    num_attrs = data.select_dtypes(include=numerics)\n",
        "\n",
        "    num_pipeline = Pipeline([\n",
        "        ('imputer', SimpleImputer(strategy=\"median\")),\n",
        "        ('attrs_adder', CustomAttrAdder()),\n",
        "        ('std_scaler', StandardScaler()),\n",
        "        ])\n",
        "    return num_attrs, num_pipeline\n",
        "\n",
        "\n",
        "def pipeline_transformer(data):\n",
        "    '''\n",
        "    Complete transformation pipeline for both\n",
        "    nuerical and categorical data.\n",
        "    \n",
        "    Argument:\n",
        "        data: original dataframe \n",
        "    Returns:\n",
        "        prepared_data: transformed data, ready to use\n",
        "    '''\n",
        "    cat_attrs = [\"Origin\"]\n",
        "    num_attrs, num_pipeline = num_pipeline_transformer(data)\n",
        "    full_pipeline = ColumnTransformer([\n",
        "        (\"num\", num_pipeline, list(num_attrs)),\n",
        "        (\"cat\", OneHotEncoder(), cat_attrs),\n",
        "        ])\n",
        "    prepared_data = full_pipeline.fit_transform(data)\n",
        "    return prepared_data"
      ],
      "execution_count": 89,
      "outputs": []
    },
    {
      "cell_type": "code",
      "metadata": {
        "colab": {
          "base_uri": "https://localhost:8080/"
        },
        "id": "fwcUzDpkV4nP",
        "outputId": "97486467-f02e-4574-a689-cdae8224468b"
      },
      "source": [
        "##from raw data to processed data in 2 steps\n",
        "preprocessed_df = preprocess_origin_cols(data)\n",
        "prepared_data = pipeline_transformer(preprocessed_df)\n",
        "prepared_data"
      ],
      "execution_count": 90,
      "outputs": [
        {
          "output_type": "execute_result",
          "data": {
            "text/plain": [
              "array([[-0.85657842, -1.07804475, -1.15261228, ...,  1.        ,\n",
              "         0.        ,  0.        ],\n",
              "       [-0.85657842, -1.1174582 , -0.99069325, ...,  0.        ,\n",
              "         0.        ,  1.        ],\n",
              "       [-0.85657842, -0.3587492 , -0.31603064, ...,  0.        ,\n",
              "         1.        ,  0.        ],\n",
              "       ...,\n",
              "       [-0.85657842, -0.56566984, -0.53192268, ...,  0.        ,\n",
              "         1.        ,  0.        ],\n",
              "       [-0.85657842, -0.78244384, -0.23507113, ...,  1.        ,\n",
              "         0.        ,  0.        ],\n",
              "       [ 0.32260746, -0.45728283,  0.43959149, ...,  1.        ,\n",
              "         0.        ,  0.        ]])"
            ]
          },
          "metadata": {
            "tags": []
          },
          "execution_count": 90
        }
      ]
    },
    {
      "cell_type": "markdown",
      "metadata": {
        "id": "mkGwjmcHYlFU"
      },
      "source": [
        "### Model Selection\n"
      ]
    },
    {
      "cell_type": "markdown",
      "metadata": {
        "id": "NjXbm25zZ1LB"
      },
      "source": [
        "Linear regression"
      ]
    },
    {
      "cell_type": "code",
      "metadata": {
        "colab": {
          "base_uri": "https://localhost:8080/"
        },
        "id": "Ch3V0KHOYpUS",
        "outputId": "547e502a-3c04-4a80-dee6-5f3f3b626812"
      },
      "source": [
        "from sklearn.linear_model import LinearRegression\n",
        "\n",
        "lin_reg = LinearRegression()\n",
        "lin_reg.fit(prepared_data, data_labels)"
      ],
      "execution_count": 91,
      "outputs": [
        {
          "output_type": "execute_result",
          "data": {
            "text/plain": [
              "LinearRegression(copy_X=True, fit_intercept=True, n_jobs=None, normalize=False)"
            ]
          },
          "metadata": {
            "tags": []
          },
          "execution_count": 91
        }
      ]
    },
    {
      "cell_type": "code",
      "metadata": {
        "colab": {
          "base_uri": "https://localhost:8080/"
        },
        "id": "4oSBRmnWZJtf",
        "outputId": "0af149a6-8c8f-4fe0-9345-12764b818756"
      },
      "source": [
        "from sklearn.metrics import mean_squared_error\n",
        "\n",
        "mpg_predictions = lin_reg.predict(prepared_data)\n",
        "lin_mse = mean_squared_error(data_labels, mpg_predictions)\n",
        "lin_rmse = np.sqrt(lin_mse)\n",
        "lin_rmse"
      ],
      "execution_count": 92,
      "outputs": [
        {
          "output_type": "execute_result",
          "data": {
            "text/plain": [
              "2.9599557382767734"
            ]
          },
          "metadata": {
            "tags": []
          },
          "execution_count": 92
        }
      ]
    },
    {
      "cell_type": "markdown",
      "metadata": {
        "id": "NRxPBA68Z4FQ"
      },
      "source": [
        "Decision tree"
      ]
    },
    {
      "cell_type": "code",
      "metadata": {
        "colab": {
          "base_uri": "https://localhost:8080/"
        },
        "id": "btTn3yQ3Zwjv",
        "outputId": "e8c410e4-82d6-45ee-f7c2-d03e4f6ecdcf"
      },
      "source": [
        "from sklearn.tree import DecisionTreeRegressor\n",
        "\n",
        "tree_reg = DecisionTreeRegressor()\n",
        "tree_reg.fit(prepared_data, data_labels)"
      ],
      "execution_count": 93,
      "outputs": [
        {
          "output_type": "execute_result",
          "data": {
            "text/plain": [
              "DecisionTreeRegressor(ccp_alpha=0.0, criterion='mse', max_depth=None,\n",
              "                      max_features=None, max_leaf_nodes=None,\n",
              "                      min_impurity_decrease=0.0, min_impurity_split=None,\n",
              "                      min_samples_leaf=1, min_samples_split=2,\n",
              "                      min_weight_fraction_leaf=0.0, presort='deprecated',\n",
              "                      random_state=None, splitter='best')"
            ]
          },
          "metadata": {
            "tags": []
          },
          "execution_count": 93
        }
      ]
    },
    {
      "cell_type": "code",
      "metadata": {
        "colab": {
          "base_uri": "https://localhost:8080/"
        },
        "id": "g9LwYBQ6Z84e",
        "outputId": "f43c214b-4dfa-404f-97c5-2ba363c725a8"
      },
      "source": [
        "mpg_predictions = tree_reg.predict(prepared_data)\n",
        "tree_mse = mean_squared_error(data_labels, mpg_predictions)\n",
        "tree_rmse = np.sqrt(tree_mse)\n",
        "tree_rmse"
      ],
      "execution_count": 94,
      "outputs": [
        {
          "output_type": "execute_result",
          "data": {
            "text/plain": [
              "0.0"
            ]
          },
          "metadata": {
            "tags": []
          },
          "execution_count": 94
        }
      ]
    },
    {
      "cell_type": "markdown",
      "metadata": {
        "id": "aSbweFAXaIeH"
      },
      "source": [
        "*Overfitting Expected here*"
      ]
    },
    {
      "cell_type": "markdown",
      "metadata": {
        "id": "jFvHRRxEadLy"
      },
      "source": [
        "Try K fold cross validation for evaluation"
      ]
    },
    {
      "cell_type": "code",
      "metadata": {
        "id": "LgZPRpnHaBBK"
      },
      "source": [
        "from sklearn.model_selection import cross_val_score\n",
        "\n",
        "scores = cross_val_score(tree_reg, \n",
        "                         prepared_data, \n",
        "                         data_labels, \n",
        "                         scoring=\"neg_mean_squared_error\", \n",
        "                         cv = 10)\n",
        "tree_reg_rmse_scores = np.sqrt(-scores)"
      ],
      "execution_count": 95,
      "outputs": []
    },
    {
      "cell_type": "code",
      "metadata": {
        "colab": {
          "base_uri": "https://localhost:8080/"
        },
        "id": "nw2D4KMWa051",
        "outputId": "6ba6a0b7-4fbe-42bd-863d-8bc3ad78d3a2"
      },
      "source": [
        "tree_reg_rmse_scores"
      ],
      "execution_count": 96,
      "outputs": [
        {
          "output_type": "execute_result",
          "data": {
            "text/plain": [
              "array([2.91451111, 3.02979991, 2.92489316, 3.34897372, 2.25173544,\n",
              "       3.01667242, 3.27337746, 3.72126491, 4.19984639, 2.51441008])"
            ]
          },
          "metadata": {
            "tags": []
          },
          "execution_count": 96
        }
      ]
    },
    {
      "cell_type": "code",
      "metadata": {
        "colab": {
          "base_uri": "https://localhost:8080/"
        },
        "id": "6XSGKVria5Nl",
        "outputId": "5346bd27-8308-4906-fe02-8bd808d218ab"
      },
      "source": [
        "tree_reg_rmse_scores.mean()"
      ],
      "execution_count": 97,
      "outputs": [
        {
          "output_type": "execute_result",
          "data": {
            "text/plain": [
              "3.1195484603259453"
            ]
          },
          "metadata": {
            "tags": []
          },
          "execution_count": 97
        }
      ]
    },
    {
      "cell_type": "code",
      "metadata": {
        "colab": {
          "base_uri": "https://localhost:8080/"
        },
        "id": "33wBqqxHbBYh",
        "outputId": "0893b246-380a-41a6-acc2-86e0d92b967b"
      },
      "source": [
        "scores = cross_val_score(lin_reg, prepared_data, data_labels, scoring=\"neg_mean_squared_error\", cv = 10)\n",
        "lin_reg_rmse_scores = np.sqrt(-scores)\n",
        "lin_reg_rmse_scores"
      ],
      "execution_count": 98,
      "outputs": [
        {
          "output_type": "execute_result",
          "data": {
            "text/plain": [
              "array([3.43029715, 3.45041922, 3.66364877, 2.59538773, 2.48739898,\n",
              "       2.746598  , 3.32560073, 2.42211361, 3.78139392, 2.86493978])"
            ]
          },
          "metadata": {
            "tags": []
          },
          "execution_count": 98
        }
      ]
    },
    {
      "cell_type": "code",
      "metadata": {
        "colab": {
          "base_uri": "https://localhost:8080/"
        },
        "id": "RML6_H54bHtu",
        "outputId": "5029ef96-5683-4bee-8bf7-27d216e8eed5"
      },
      "source": [
        "lin_reg_rmse_scores.mean()"
      ],
      "execution_count": 99,
      "outputs": [
        {
          "output_type": "execute_result",
          "data": {
            "text/plain": [
              "3.076779788960899"
            ]
          },
          "metadata": {
            "tags": []
          },
          "execution_count": 99
        }
      ]
    },
    {
      "cell_type": "markdown",
      "metadata": {
        "id": "M_9gca4MbNpY"
      },
      "source": [
        "Random forest"
      ]
    },
    {
      "cell_type": "code",
      "metadata": {
        "colab": {
          "base_uri": "https://localhost:8080/"
        },
        "id": "KyqsKfXwbMrB",
        "outputId": "2cd5e856-84f6-42b8-a2d1-d4570a43d6ad"
      },
      "source": [
        "from sklearn.ensemble import RandomForestRegressor\n",
        "\n",
        "forest_reg = RandomForestRegressor()\n",
        "forest_reg.fit(prepared_data, data_labels)\n",
        "forest_reg_cv_scores = cross_val_score(forest_reg,\n",
        "                                         prepared_data,\n",
        "                                         data_labels,\n",
        "                                         scoring='neg_mean_squared_error',\n",
        "                                         cv = 10)\n",
        "\n",
        "forest_reg_rmse_scores = np.sqrt(-forest_reg_cv_scores)\n",
        "forest_reg_rmse_scores.mean()"
      ],
      "execution_count": 100,
      "outputs": [
        {
          "output_type": "execute_result",
          "data": {
            "text/plain": [
              "2.5342479615172375"
            ]
          },
          "metadata": {
            "tags": []
          },
          "execution_count": 100
        }
      ]
    },
    {
      "cell_type": "markdown",
      "metadata": {
        "id": "HctrExAEbbg8"
      },
      "source": [
        "SVM Regressor"
      ]
    },
    {
      "cell_type": "code",
      "metadata": {
        "colab": {
          "base_uri": "https://localhost:8080/"
        },
        "id": "y0i9_kcxbX5-",
        "outputId": "641863d6-2108-4b84-f91e-49b7da0dda19"
      },
      "source": [
        "from sklearn.svm import SVR\n",
        "\n",
        "svm_reg = SVR(kernel='linear')\n",
        "svm_reg.fit(prepared_data, data_labels)\n",
        "svm_cv_scores = cross_val_score(svm_reg, prepared_data, data_labels,\n",
        "                                scoring='neg_mean_squared_error',\n",
        "                                cv = 10)\n",
        "svm_rmse_scores = np.sqrt(-svm_cv_scores)\n",
        "svm_rmse_scores.mean()"
      ],
      "execution_count": 101,
      "outputs": [
        {
          "output_type": "execute_result",
          "data": {
            "text/plain": [
              "3.088411910825019"
            ]
          },
          "metadata": {
            "tags": []
          },
          "execution_count": 101
        }
      ]
    },
    {
      "cell_type": "markdown",
      "metadata": {
        "id": "VHWbboa1bo-D"
      },
      "source": [
        "### Hyperparameter Tuning"
      ]
    },
    {
      "cell_type": "code",
      "metadata": {
        "colab": {
          "base_uri": "https://localhost:8080/"
        },
        "id": "tPx7aD7Kbh7E",
        "outputId": "5f56033c-3866-4929-aa96-731de1d7527e"
      },
      "source": [
        "from sklearn.model_selection import GridSearchCV\n",
        "\n",
        "param_grid = [\n",
        "    {'n_estimators': [3, 10, 30], 'max_features': [2, 4, 6, 8]},\n",
        "    {'bootstrap': [False], 'n_estimators': [3, 10], 'max_features': [2, 3, 4]},\n",
        "  ]\n",
        "\n",
        "forest_reg = RandomForestRegressor()\n",
        "\n",
        "grid_search = GridSearchCV(forest_reg, param_grid,\n",
        "                           scoring='neg_mean_squared_error',\n",
        "                           return_train_score=True,\n",
        "                           cv=10,\n",
        "                          )\n",
        "\n",
        "grid_search.fit(prepared_data, data_labels)"
      ],
      "execution_count": 109,
      "outputs": [
        {
          "output_type": "execute_result",
          "data": {
            "text/plain": [
              "GridSearchCV(cv=10, error_score=nan,\n",
              "             estimator=RandomForestRegressor(bootstrap=True, ccp_alpha=0.0,\n",
              "                                             criterion='mse', max_depth=None,\n",
              "                                             max_features='auto',\n",
              "                                             max_leaf_nodes=None,\n",
              "                                             max_samples=None,\n",
              "                                             min_impurity_decrease=0.0,\n",
              "                                             min_impurity_split=None,\n",
              "                                             min_samples_leaf=1,\n",
              "                                             min_samples_split=2,\n",
              "                                             min_weight_fraction_leaf=0.0,\n",
              "                                             n_estimators=100, n_jobs=None,\n",
              "                                             oob_score=False, random_state=None,\n",
              "                                             verbose=0, warm_start=False),\n",
              "             iid='deprecated', n_jobs=None,\n",
              "             param_grid=[{'max_features': [2, 4, 6, 8],\n",
              "                          'n_estimators': [3, 10, 30]},\n",
              "                         {'bootstrap': [False], 'max_features': [2, 3, 4],\n",
              "                          'n_estimators': [3, 10]}],\n",
              "             pre_dispatch='2*n_jobs', refit=True, return_train_score=True,\n",
              "             scoring='neg_mean_squared_error', verbose=0)"
            ]
          },
          "metadata": {
            "tags": []
          },
          "execution_count": 109
        }
      ]
    },
    {
      "cell_type": "code",
      "metadata": {
        "colab": {
          "base_uri": "https://localhost:8080/"
        },
        "id": "WLqfAmcrcNT9",
        "outputId": "74b63500-c0a2-4bec-deef-45bcf8c22050"
      },
      "source": [
        "grid_search.best_params_"
      ],
      "execution_count": 110,
      "outputs": [
        {
          "output_type": "execute_result",
          "data": {
            "text/plain": [
              "{'max_features': 6, 'n_estimators': 30}"
            ]
          },
          "metadata": {
            "tags": []
          },
          "execution_count": 110
        }
      ]
    },
    {
      "cell_type": "code",
      "metadata": {
        "colab": {
          "base_uri": "https://localhost:8080/"
        },
        "id": "avNPnOgEcVyj",
        "outputId": "75425796-b87b-4c71-d338-e3fd1d1e4447"
      },
      "source": [
        "cv_scores = grid_search.cv_results_\n",
        "\n",
        "##printing all the parameters along with their scores\n",
        "for mean_score, params in zip(cv_scores['mean_test_score'], cv_scores[\"params\"]):\n",
        "    print(np.sqrt(-mean_score), params)"
      ],
      "execution_count": 111,
      "outputs": [
        {
          "output_type": "stream",
          "text": [
            "3.2908152056507123 {'max_features': 2, 'n_estimators': 3}\n",
            "3.108650597655911 {'max_features': 2, 'n_estimators': 10}\n",
            "2.914785975838747 {'max_features': 2, 'n_estimators': 30}\n",
            "3.479375661741588 {'max_features': 4, 'n_estimators': 3}\n",
            "2.861608446874905 {'max_features': 4, 'n_estimators': 10}\n",
            "2.754034923971589 {'max_features': 4, 'n_estimators': 30}\n",
            "3.0707725479459786 {'max_features': 6, 'n_estimators': 3}\n",
            "2.7635034212524854 {'max_features': 6, 'n_estimators': 10}\n",
            "2.62605124196921 {'max_features': 6, 'n_estimators': 30}\n",
            "3.022486403466488 {'max_features': 8, 'n_estimators': 3}\n",
            "2.757075829029033 {'max_features': 8, 'n_estimators': 10}\n",
            "2.6705644346545125 {'max_features': 8, 'n_estimators': 30}\n",
            "3.43176674053898 {'bootstrap': False, 'max_features': 2, 'n_estimators': 3}\n",
            "2.832833696409321 {'bootstrap': False, 'max_features': 2, 'n_estimators': 10}\n",
            "3.234387939778108 {'bootstrap': False, 'max_features': 3, 'n_estimators': 3}\n",
            "2.7971961930366467 {'bootstrap': False, 'max_features': 3, 'n_estimators': 10}\n",
            "3.009706500861199 {'bootstrap': False, 'max_features': 4, 'n_estimators': 3}\n",
            "2.8481582033324053 {'bootstrap': False, 'max_features': 4, 'n_estimators': 10}\n"
          ],
          "name": "stdout"
        }
      ]
    },
    {
      "cell_type": "markdown",
      "metadata": {
        "id": "av0vGv6-czud"
      },
      "source": [
        "### feature importance"
      ]
    },
    {
      "cell_type": "code",
      "metadata": {
        "colab": {
          "base_uri": "https://localhost:8080/"
        },
        "id": "Kcc4-uNRcr9Y",
        "outputId": "2fecbf62-18fb-4f3f-b66d-2998dc2a856a"
      },
      "source": [
        "# feature importances \n",
        "\n",
        "feature_importances = grid_search.best_estimator_.feature_importances_\n",
        "feature_importances"
      ],
      "execution_count": 112,
      "outputs": [
        {
          "output_type": "execute_result",
          "data": {
            "text/plain": [
              "array([0.18042004, 0.31535979, 0.1325219 , 0.16579162, 0.01820109,\n",
              "       0.11382022, 0.02695148, 0.03768779, 0.00240961, 0.00526124,\n",
              "       0.00157521])"
            ]
          },
          "metadata": {
            "tags": []
          },
          "execution_count": 112
        }
      ]
    },
    {
      "cell_type": "code",
      "metadata": {
        "colab": {
          "base_uri": "https://localhost:8080/"
        },
        "id": "R4tw2UPqc56o",
        "outputId": "3a47d929-f234-4734-bafe-774c083d5054"
      },
      "source": [
        "extra_attrs = [\"acc_on_power\", \"acc_on_cyl\"]\n",
        "numerics = ['float64', 'int64']\n",
        "num_attrs = list(data.select_dtypes(include=numerics))\n",
        "\n",
        "attrs = num_attrs + extra_attrs\n",
        "sorted(zip(attrs, feature_importances), reverse=True)"
      ],
      "execution_count": 113,
      "outputs": [
        {
          "output_type": "execute_result",
          "data": {
            "text/plain": [
              "[('acc_on_power', 0.026951478589707707),\n",
              " ('acc_on_cyl', 0.0376877926465764),\n",
              " ('Weight', 0.16579162097919833),\n",
              " ('Model Year', 0.11382022369842613),\n",
              " ('Horsepower', 0.13252190422079682),\n",
              " ('Displacement', 0.3153597899672077),\n",
              " ('Cylinders', 0.18042004400719217),\n",
              " ('Acceleration', 0.018201090590496745)]"
            ]
          },
          "metadata": {
            "tags": []
          },
          "execution_count": 113
        }
      ]
    },
    {
      "cell_type": "markdown",
      "metadata": {
        "id": "bvzEeQWgdgka"
      },
      "source": [
        "### Evaluation on test data"
      ]
    },
    {
      "cell_type": "code",
      "metadata": {
        "id": "Hp06cw_WdQaQ"
      },
      "source": [
        "final_model = grid_search.best_estimator_\n",
        "\n",
        "X_test = strat_test_set.drop(\"MPG\", axis=1)\n",
        "y_test = strat_test_set[\"MPG\"].copy()\n",
        "\n",
        "X_test_preprocessed = preprocess_origin_cols(X_test)\n",
        "X_test_prepared = pipeline_transformer(X_test_preprocessed)\n",
        "\n",
        "final_predictions = final_model.predict(X_test_prepared)\n",
        "final_mse = mean_squared_error(y_test, final_predictions)\n",
        "final_rmse = np.sqrt(final_mse)"
      ],
      "execution_count": 114,
      "outputs": []
    },
    {
      "cell_type": "code",
      "metadata": {
        "colab": {
          "base_uri": "https://localhost:8080/"
        },
        "id": "db7XFmPHd1El",
        "outputId": "a9aff78e-a075-457e-c2bf-41780b7b386c"
      },
      "source": [
        "final_rmse"
      ],
      "execution_count": 115,
      "outputs": [
        {
          "output_type": "execute_result",
          "data": {
            "text/plain": [
              "2.9892382204984758"
            ]
          },
          "metadata": {
            "tags": []
          },
          "execution_count": 115
        }
      ]
    },
    {
      "cell_type": "markdown",
      "metadata": {
        "id": "9l80ELpkejRp"
      },
      "source": [
        "### Function to cover the entire flow of results"
      ]
    },
    {
      "cell_type": "code",
      "metadata": {
        "id": "ijpMfdTpd4iY"
      },
      "source": [
        "def predict_mpg(config, model):\n",
        "    \n",
        "    if type(config) == dict:\n",
        "        df = pd.DataFrame(config)\n",
        "    else:\n",
        "        df = config\n",
        "    \n",
        "    preproc_df = preprocess_origin_cols(df)\n",
        "    prepared_df = pipeline_transformer(preproc_df)\n",
        "    y_pred = model.predict(prepared_df)\n",
        "    return y_pred"
      ],
      "execution_count": 116,
      "outputs": []
    },
    {
      "cell_type": "code",
      "metadata": {
        "colab": {
          "base_uri": "https://localhost:8080/"
        },
        "id": "BqU8v2a5er7u",
        "outputId": "c9a73153-1c19-4c78-890d-c99ce72ac2d9"
      },
      "source": [
        "##checking it on a random sample\n",
        "vehicle_config = {\n",
        "    'Cylinders': [4, 6, 8],\n",
        "    'Displacement': [155.0, 160.0, 165.5],\n",
        "    'Horsepower': [93.0, 130.0, 98.0],\n",
        "    'Weight': [2500.0, 3150.0, 2600.0],\n",
        "    'Acceleration': [15.0, 14.0, 16.0],\n",
        "    'Model Year': [81, 80, 78],\n",
        "    'Origin': [3, 2, 1]\n",
        "}\n",
        "\n",
        "predict_mpg(vehicle_config, final_model)"
      ],
      "execution_count": 117,
      "outputs": [
        {
          "output_type": "execute_result",
          "data": {
            "text/plain": [
              "array([32.55333333, 18.17333333, 19.74      ])"
            ]
          },
          "metadata": {
            "tags": []
          },
          "execution_count": 117
        }
      ]
    },
    {
      "cell_type": "markdown",
      "metadata": {
        "id": "GL86VyJMfEjC"
      },
      "source": [
        "### Save the model"
      ]
    },
    {
      "cell_type": "code",
      "metadata": {
        "colab": {
          "base_uri": "https://localhost:8080/"
        },
        "id": "tEcL4bHQexPi",
        "outputId": "b66778f3-b578-421e-e214-c266293f90a0"
      },
      "source": [
        "import pickle\n",
        "##saving the model\n",
        "with open(\"model.bin\", 'wb') as f_out:\n",
        "    pickle.dump(final_model, f_out)\n",
        "    f_out.close()\n",
        "##loading the model from the saved file\n",
        "with open('model.bin', 'rb') as f_in:\n",
        "    model = pickle.load(f_in)\n",
        "\n",
        "predict_mpg(vehicle_config, model)"
      ],
      "execution_count": 118,
      "outputs": [
        {
          "output_type": "execute_result",
          "data": {
            "text/plain": [
              "array([32.55333333, 18.17333333, 19.74      ])"
            ]
          },
          "metadata": {
            "tags": []
          },
          "execution_count": 118
        }
      ]
    }
  ]
}