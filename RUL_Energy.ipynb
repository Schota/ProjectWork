{
  "nbformat": 4,
  "nbformat_minor": 0,
  "metadata": {
    "colab": {
      "name": "RUL_Energy.ipynb",
      "provenance": []
    },
    "kernelspec": {
      "name": "python3",
      "display_name": "Python 3"
    }
  },
  "cells": [
    {
      "cell_type": "markdown",
      "metadata": {
        "id": "k1CTgwJlQ-cq"
      },
      "source": [
        "##Requirements"
      ]
    },
    {
      "cell_type": "markdown",
      "metadata": {
        "id": "wOF6bek0R5SV"
      },
      "source": [
        "Calling tensorflow, matplotlib, pandas, numpy and other libraries for prediction and visualization aid."
      ]
    },
    {
      "cell_type": "code",
      "metadata": {
        "colab": {
          "base_uri": "https://localhost:8080/"
        },
        "id": "He9GEg_wQyC1",
        "outputId": "b52f5600-07df-4878-8a85-12a83ad13a8c"
      },
      "source": [
        "%tensorflow_version 2.x\n",
        "%matplotlib inline\n",
        "!pip show tensorflow"
      ],
      "execution_count": null,
      "outputs": [
        {
          "output_type": "stream",
          "text": [
            "Name: tensorflow\n",
            "Version: 2.4.0\n",
            "Summary: TensorFlow is an open source machine learning framework for everyone.\n",
            "Home-page: https://www.tensorflow.org/\n",
            "Author: Google Inc.\n",
            "Author-email: packages@tensorflow.org\n",
            "License: Apache 2.0\n",
            "Location: /usr/local/lib/python3.6/dist-packages\n",
            "Requires: astunparse, flatbuffers, protobuf, tensorflow-estimator, absl-py, google-pasta, termcolor, tensorboard, typing-extensions, gast, wrapt, six, wheel, grpcio, opt-einsum, keras-preprocessing, numpy, h5py\n",
            "Required-by: fancyimpute\n"
          ],
          "name": "stdout"
        }
      ]
    },
    {
      "cell_type": "code",
      "metadata": {
        "id": "JwXujvfdRH5T"
      },
      "source": [
        "import datetime\n",
        "import numpy as np\n",
        "import pandas as pd\n",
        "from scipy.io import loadmat\n",
        "from sklearn.preprocessing import MinMaxScaler\n",
        "from sklearn.metrics import mean_squared_error\n",
        "from sklearn import metrics\n",
        "import matplotlib.pyplot as plt\n",
        "import seaborn as sns"
      ],
      "execution_count": null,
      "outputs": []
    },
    {
      "cell_type": "markdown",
      "metadata": {
        "id": "3d3SeGhqRNBl"
      },
      "source": [
        "##Function for making MAT data usable for prediction"
      ]
    },
    {
      "cell_type": "markdown",
      "metadata": {
        "id": "WrvKc0uqSQ_3"
      },
      "source": [
        "The data that we used here is a part of NASA's Prognostics Center of Excellence Repository. It can be accessed at the following link: https://ti.arc.nasa.gov/tech/dash/groups/pcoe/prognostic-data-repository/#battery\n",
        "The data files are in .mat format. We required a function that can convert these highly branched .mat data to simpler dataframe that can be used for learning the patterns from."
      ]
    },
    {
      "cell_type": "code",
      "metadata": {
        "id": "Sr4tTSkxRWpW"
      },
      "source": [
        "def load_data(battery):\n",
        "  mat = loadmat(battery + '.mat')\n",
        "  print('Total data in dataset: ', len(mat[battery][0, 0]['cycle'][0]))\n",
        "  counter = 0\n",
        "  dataset = []\n",
        "  capacity_data = []\n",
        "  \n",
        "  for i in range(len(mat[battery][0, 0]['cycle'][0])):\n",
        "    row = mat[battery][0, 0]['cycle'][0, i]\n",
        "    if row['type'][0] == 'discharge':\n",
        "      ambient_temperature = row['ambient_temperature'][0][0]\n",
        "      date_time = datetime.datetime(int(row['time'][0][0]),\n",
        "                               int(row['time'][0][1]),\n",
        "                               int(row['time'][0][2]),\n",
        "                               int(row['time'][0][3]),\n",
        "                               int(row['time'][0][4])) + datetime.timedelta(seconds=int(row['time'][0][5]))\n",
        "      data = row['data']\n",
        "      capacity = data[0][0]['Capacity'][0][0]\n",
        "      for j in range(len(data[0][0]['Voltage_measured'][0])):\n",
        "        voltage_measured = data[0][0]['Voltage_measured'][0][j]\n",
        "        current_measured = data[0][0]['Current_measured'][0][j]\n",
        "        temperature_measured = data[0][0]['Temperature_measured'][0][j]\n",
        "        current_load = data[0][0]['Current_load'][0][j]\n",
        "        voltage_load = data[0][0]['Voltage_load'][0][j]\n",
        "        time = data[0][0]['Time'][0][j]\n",
        "        dataset.append([counter + 1, ambient_temperature, date_time, capacity,\n",
        "                        voltage_measured, current_measured,\n",
        "                        temperature_measured, current_load,\n",
        "                        voltage_load, time])\n",
        "      capacity_data.append([counter + 1, ambient_temperature, date_time, capacity])\n",
        "      counter = counter + 1\n",
        "  print(dataset[0])\n",
        "  return [pd.DataFrame(data=dataset,\n",
        "                       columns=['cycle', 'ambient_temperature', 'datetime',\n",
        "                                'capacity', 'voltage_measured',\n",
        "                                'current_measured', 'temperature_measured',\n",
        "                                'current_load', 'voltage_load', 'time']),\n",
        "          pd.DataFrame(data=capacity_data,\n",
        "                       columns=['cycle', 'ambient_temperature', 'datetime',\n",
        "                                'capacity'])]"
      ],
      "execution_count": null,
      "outputs": []
    },
    {
      "cell_type": "markdown",
      "metadata": {
        "id": "mMiKsiphRdKN"
      },
      "source": [
        "Now we used this simpler dataframe in order to prepare training and testing sets for validation of the model in further steps.\n",
        "Here we shall split the loaded data in main data and capacity data. In this specific case, the battery capacity data is used to predict the capacity in the following cycles using the first data of the first 50 cycles in such a way that we can know when the battery threshold is reached and estimate the missing cycles to reach the end of the battery life."
      ]
    },
    {
      "cell_type": "code",
      "metadata": {
        "colab": {
          "base_uri": "https://localhost:8080/"
        },
        "id": "wY3pS8BQRnBu",
        "outputId": "1ac7473e-2331-4868-d858-08102fcf88c9"
      },
      "source": [
        "dataset_val, capacity_val = load_data('B0005')\n",
        "attrib=['cycle', 'datetime', 'capacity']\n",
        "dis_ele = capacity_val[attrib]\n",
        "rows=['cycle','capacity']\n",
        "dataset=dis_ele[rows]\n",
        "data_train=dataset[(dataset['cycle']<50)]\n",
        "data_set_train=data_train.iloc[:,1:2].values\n",
        "data_test=dataset[(dataset['cycle']>=50)]\n",
        "data_set_test=data_test.iloc[:,1:2].values\n",
        "\n",
        "sc=MinMaxScaler(feature_range=(0,1))\n",
        "data_set_train=sc.fit_transform(data_set_train)\n",
        "data_set_test=sc.transform(data_set_test)\n",
        "\n",
        "X_train=[]\n",
        "y_train=[]\n",
        "#take the last 10t to predict 10t+1\n",
        "for i in range(10,49):\n",
        "    X_train.append(data_set_train[i-10:i,0])\n",
        "    y_train.append(data_set_train[i,0])\n",
        "X_train,y_train=np.array(X_train),np.array(y_train)\n",
        " \n",
        "X_train=np.reshape(X_train,(X_train.shape[0],X_train.shape[1],1))"
      ],
      "execution_count": null,
      "outputs": [
        {
          "output_type": "stream",
          "text": [
            "Total data in dataset:  616\n",
            "[1, 24, datetime.datetime(2008, 4, 2, 15, 25, 41), 1.8564874208181574, 4.191491807505295, -0.004901589207462691, 24.330033885570543, -0.0006, 0.0, 0.0]\n"
          ],
          "name": "stdout"
        }
      ]
    },
    {
      "cell_type": "markdown",
      "metadata": {
        "id": "1_hIT_EDRoY1"
      },
      "source": [
        "##Neural Network building"
      ]
    },
    {
      "cell_type": "markdown",
      "metadata": {
        "id": "ui6dXhnfT0Mb"
      },
      "source": [
        "Calling the necessary tensorflow models, layers and optimizers."
      ]
    },
    {
      "cell_type": "code",
      "metadata": {
        "id": "4wIezYYtTTx6"
      },
      "source": [
        "import tensorflow as tf\n",
        "from tensorflow.keras.models import Sequential\n",
        "from tensorflow.keras.layers import Dense\n",
        "from tensorflow.keras.layers import Dropout\n",
        "from tensorflow.keras.layers import Flatten\n",
        "from tensorflow.keras.layers import LSTM\n",
        "from tensorflow.keras.optimizers import Adam"
      ],
      "execution_count": null,
      "outputs": []
    },
    {
      "cell_type": "markdown",
      "metadata": {
        "id": "RaO_X1FUUT4z"
      },
      "source": [
        "Here we used LSTM( long short term memory) artificial recurrent neural network architecture. It's different from the standard neural networks is that, it has feedback capabilities unlike their feedforward connections."
      ]
    },
    {
      "cell_type": "code",
      "metadata": {
        "colab": {
          "base_uri": "https://localhost:8080/"
        },
        "id": "H5D-IruDRowN",
        "outputId": "598f51bb-124a-4d77-8d80-deb96710c9cd"
      },
      "source": [
        "regress = Sequential()\n",
        "regress.add(LSTM(units=200, return_sequences=True, input_shape=(X_train.shape[1],1)))\n",
        "regress.add(Dropout(0.3))\n",
        "regress.add(LSTM(units=200, return_sequences=True))\n",
        "regress.add(Dropout(0.3))\n",
        "regress.add(LSTM(units=200, return_sequences=True))\n",
        "regress.add(Dropout(0.3))\n",
        "regress.add(LSTM(units=200))\n",
        "regress.add(Dropout(0.3))\n",
        "regress.add(Dense(units=1))\n",
        "regress.compile(optimizer='adam',loss='mean_squared_error')\n",
        "regress.summary()"
      ],
      "execution_count": null,
      "outputs": [
        {
          "output_type": "stream",
          "text": [
            "Model: \"sequential\"\n",
            "_________________________________________________________________\n",
            "Layer (type)                 Output Shape              Param #   \n",
            "=================================================================\n",
            "lstm (LSTM)                  (None, 10, 200)           161600    \n",
            "_________________________________________________________________\n",
            "dropout (Dropout)            (None, 10, 200)           0         \n",
            "_________________________________________________________________\n",
            "lstm_1 (LSTM)                (None, 10, 200)           320800    \n",
            "_________________________________________________________________\n",
            "dropout_1 (Dropout)          (None, 10, 200)           0         \n",
            "_________________________________________________________________\n",
            "lstm_2 (LSTM)                (None, 10, 200)           320800    \n",
            "_________________________________________________________________\n",
            "dropout_2 (Dropout)          (None, 10, 200)           0         \n",
            "_________________________________________________________________\n",
            "lstm_3 (LSTM)                (None, 200)               320800    \n",
            "_________________________________________________________________\n",
            "dropout_3 (Dropout)          (None, 200)               0         \n",
            "_________________________________________________________________\n",
            "dense (Dense)                (None, 1)                 201       \n",
            "=================================================================\n",
            "Total params: 1,124,201\n",
            "Trainable params: 1,124,201\n",
            "Non-trainable params: 0\n",
            "_________________________________________________________________\n"
          ],
          "name": "stdout"
        }
      ]
    },
    {
      "cell_type": "markdown",
      "metadata": {
        "id": "GeD0yC3ARznp"
      },
      "source": [
        "##Train"
      ]
    },
    {
      "cell_type": "code",
      "metadata": {
        "colab": {
          "base_uri": "https://localhost:8080/"
        },
        "id": "wncdk5G6R699",
        "outputId": "75d97bae-1a6c-47b5-8840-d2d3de0db668"
      },
      "source": [
        "regress.fit(X_train,y_train,epochs=220,batch_size=25)"
      ],
      "execution_count": null,
      "outputs": [
        {
          "output_type": "stream",
          "text": [
            "Epoch 1/220\n",
            "2/2 [==============================] - 6s 89ms/step - loss: 0.3375\n",
            "Epoch 2/220\n",
            "2/2 [==============================] - 0s 89ms/step - loss: 0.1295\n",
            "Epoch 3/220\n",
            "2/2 [==============================] - 0s 87ms/step - loss: 0.1465\n",
            "Epoch 4/220\n",
            "2/2 [==============================] - 0s 87ms/step - loss: 0.0560\n",
            "Epoch 5/220\n",
            "2/2 [==============================] - 0s 86ms/step - loss: 0.1045\n",
            "Epoch 6/220\n",
            "2/2 [==============================] - 0s 81ms/step - loss: 0.0987\n",
            "Epoch 7/220\n",
            "2/2 [==============================] - 0s 83ms/step - loss: 0.0674\n",
            "Epoch 8/220\n",
            "2/2 [==============================] - 0s 85ms/step - loss: 0.0487\n",
            "Epoch 9/220\n",
            "2/2 [==============================] - 0s 85ms/step - loss: 0.0577\n",
            "Epoch 10/220\n",
            "2/2 [==============================] - 0s 86ms/step - loss: 0.0470\n",
            "Epoch 11/220\n",
            "2/2 [==============================] - 0s 85ms/step - loss: 0.0451\n",
            "Epoch 12/220\n",
            "2/2 [==============================] - 0s 83ms/step - loss: 0.0458\n",
            "Epoch 13/220\n",
            "2/2 [==============================] - 0s 84ms/step - loss: 0.0482\n",
            "Epoch 14/220\n",
            "2/2 [==============================] - 0s 92ms/step - loss: 0.0460\n",
            "Epoch 15/220\n",
            "2/2 [==============================] - 0s 83ms/step - loss: 0.0454\n",
            "Epoch 16/220\n",
            "2/2 [==============================] - 0s 86ms/step - loss: 0.0467\n",
            "Epoch 17/220\n",
            "2/2 [==============================] - 0s 92ms/step - loss: 0.0455\n",
            "Epoch 18/220\n",
            "2/2 [==============================] - 0s 81ms/step - loss: 0.0452\n",
            "Epoch 19/220\n",
            "2/2 [==============================] - 0s 90ms/step - loss: 0.0468\n",
            "Epoch 20/220\n",
            "2/2 [==============================] - 0s 92ms/step - loss: 0.0446\n",
            "Epoch 21/220\n",
            "2/2 [==============================] - 0s 81ms/step - loss: 0.0422\n",
            "Epoch 22/220\n",
            "2/2 [==============================] - 0s 83ms/step - loss: 0.0437\n",
            "Epoch 23/220\n",
            "2/2 [==============================] - 0s 88ms/step - loss: 0.0427\n",
            "Epoch 24/220\n",
            "2/2 [==============================] - 0s 82ms/step - loss: 0.0427\n",
            "Epoch 25/220\n",
            "2/2 [==============================] - 0s 83ms/step - loss: 0.0382\n",
            "Epoch 26/220\n",
            "2/2 [==============================] - 0s 82ms/step - loss: 0.0388\n",
            "Epoch 27/220\n",
            "2/2 [==============================] - 0s 85ms/step - loss: 0.0350\n",
            "Epoch 28/220\n",
            "2/2 [==============================] - 0s 82ms/step - loss: 0.0412\n",
            "Epoch 29/220\n",
            "2/2 [==============================] - 0s 82ms/step - loss: 0.0392\n",
            "Epoch 30/220\n",
            "2/2 [==============================] - 0s 90ms/step - loss: 0.0447\n",
            "Epoch 31/220\n",
            "2/2 [==============================] - 0s 85ms/step - loss: 0.0431\n",
            "Epoch 32/220\n",
            "2/2 [==============================] - 0s 89ms/step - loss: 0.0349\n",
            "Epoch 33/220\n",
            "2/2 [==============================] - 0s 82ms/step - loss: 0.0479\n",
            "Epoch 34/220\n",
            "2/2 [==============================] - 0s 84ms/step - loss: 0.0378\n",
            "Epoch 35/220\n",
            "2/2 [==============================] - 0s 94ms/step - loss: 0.0363\n",
            "Epoch 36/220\n",
            "2/2 [==============================] - 0s 83ms/step - loss: 0.0344\n",
            "Epoch 37/220\n",
            "2/2 [==============================] - 0s 88ms/step - loss: 0.0364\n",
            "Epoch 38/220\n",
            "2/2 [==============================] - 0s 84ms/step - loss: 0.0382\n",
            "Epoch 39/220\n",
            "2/2 [==============================] - 0s 94ms/step - loss: 0.0429\n",
            "Epoch 40/220\n",
            "2/2 [==============================] - 0s 86ms/step - loss: 0.0317\n",
            "Epoch 41/220\n",
            "2/2 [==============================] - 0s 90ms/step - loss: 0.0401\n",
            "Epoch 42/220\n",
            "2/2 [==============================] - 0s 99ms/step - loss: 0.0403\n",
            "Epoch 43/220\n",
            "2/2 [==============================] - 0s 84ms/step - loss: 0.0425\n",
            "Epoch 44/220\n",
            "2/2 [==============================] - 0s 82ms/step - loss: 0.0375\n",
            "Epoch 45/220\n",
            "2/2 [==============================] - 0s 93ms/step - loss: 0.0371\n",
            "Epoch 46/220\n",
            "2/2 [==============================] - 0s 85ms/step - loss: 0.0371\n",
            "Epoch 47/220\n",
            "2/2 [==============================] - 0s 85ms/step - loss: 0.0432\n",
            "Epoch 48/220\n",
            "2/2 [==============================] - 0s 92ms/step - loss: 0.0410\n",
            "Epoch 49/220\n",
            "2/2 [==============================] - 0s 83ms/step - loss: 0.0462\n",
            "Epoch 50/220\n",
            "2/2 [==============================] - 0s 82ms/step - loss: 0.0352\n",
            "Epoch 51/220\n",
            "2/2 [==============================] - 0s 85ms/step - loss: 0.0460\n",
            "Epoch 52/220\n",
            "2/2 [==============================] - 0s 84ms/step - loss: 0.0430\n",
            "Epoch 53/220\n",
            "2/2 [==============================] - 0s 96ms/step - loss: 0.0390\n",
            "Epoch 54/220\n",
            "2/2 [==============================] - 0s 86ms/step - loss: 0.0436\n",
            "Epoch 55/220\n",
            "2/2 [==============================] - 0s 84ms/step - loss: 0.0443\n",
            "Epoch 56/220\n",
            "2/2 [==============================] - 0s 89ms/step - loss: 0.0308\n",
            "Epoch 57/220\n",
            "2/2 [==============================] - 0s 89ms/step - loss: 0.0403\n",
            "Epoch 58/220\n",
            "2/2 [==============================] - 0s 83ms/step - loss: 0.0415\n",
            "Epoch 59/220\n",
            "2/2 [==============================] - 0s 86ms/step - loss: 0.0411\n",
            "Epoch 60/220\n",
            "2/2 [==============================] - 0s 81ms/step - loss: 0.0394\n",
            "Epoch 61/220\n",
            "2/2 [==============================] - 0s 82ms/step - loss: 0.0352\n",
            "Epoch 62/220\n",
            "2/2 [==============================] - 0s 84ms/step - loss: 0.0404\n",
            "Epoch 63/220\n",
            "2/2 [==============================] - 0s 89ms/step - loss: 0.0354\n",
            "Epoch 64/220\n",
            "2/2 [==============================] - 0s 84ms/step - loss: 0.0440\n",
            "Epoch 65/220\n",
            "2/2 [==============================] - 0s 84ms/step - loss: 0.0371\n",
            "Epoch 66/220\n",
            "2/2 [==============================] - 0s 84ms/step - loss: 0.0382\n",
            "Epoch 67/220\n",
            "2/2 [==============================] - 0s 93ms/step - loss: 0.0365\n",
            "Epoch 68/220\n",
            "2/2 [==============================] - 0s 90ms/step - loss: 0.0311\n",
            "Epoch 69/220\n",
            "2/2 [==============================] - 0s 89ms/step - loss: 0.0370\n",
            "Epoch 70/220\n",
            "2/2 [==============================] - 0s 87ms/step - loss: 0.0358\n",
            "Epoch 71/220\n",
            "2/2 [==============================] - 0s 90ms/step - loss: 0.0368\n",
            "Epoch 72/220\n",
            "2/2 [==============================] - 0s 88ms/step - loss: 0.0428\n",
            "Epoch 73/220\n",
            "2/2 [==============================] - 0s 90ms/step - loss: 0.0385\n",
            "Epoch 74/220\n",
            "2/2 [==============================] - 0s 84ms/step - loss: 0.0342\n",
            "Epoch 75/220\n",
            "2/2 [==============================] - 0s 94ms/step - loss: 0.0385\n",
            "Epoch 76/220\n",
            "2/2 [==============================] - 0s 94ms/step - loss: 0.0379\n",
            "Epoch 77/220\n",
            "2/2 [==============================] - 0s 86ms/step - loss: 0.0365\n",
            "Epoch 78/220\n",
            "2/2 [==============================] - 0s 89ms/step - loss: 0.0313\n",
            "Epoch 79/220\n",
            "2/2 [==============================] - 0s 85ms/step - loss: 0.0417\n",
            "Epoch 80/220\n",
            "2/2 [==============================] - 0s 84ms/step - loss: 0.0334\n",
            "Epoch 81/220\n",
            "2/2 [==============================] - 0s 86ms/step - loss: 0.0390\n",
            "Epoch 82/220\n",
            "2/2 [==============================] - 0s 89ms/step - loss: 0.0351\n",
            "Epoch 83/220\n",
            "2/2 [==============================] - 0s 89ms/step - loss: 0.0289\n",
            "Epoch 84/220\n",
            "2/2 [==============================] - 0s 83ms/step - loss: 0.0371\n",
            "Epoch 85/220\n",
            "2/2 [==============================] - 0s 83ms/step - loss: 0.0353\n",
            "Epoch 86/220\n",
            "2/2 [==============================] - 0s 87ms/step - loss: 0.0376\n",
            "Epoch 87/220\n",
            "2/2 [==============================] - 0s 85ms/step - loss: 0.0396\n",
            "Epoch 88/220\n",
            "2/2 [==============================] - 0s 84ms/step - loss: 0.0361\n",
            "Epoch 89/220\n",
            "2/2 [==============================] - 0s 86ms/step - loss: 0.0401\n",
            "Epoch 90/220\n",
            "2/2 [==============================] - 0s 83ms/step - loss: 0.0346\n",
            "Epoch 91/220\n",
            "2/2 [==============================] - 0s 82ms/step - loss: 0.0328\n",
            "Epoch 92/220\n",
            "2/2 [==============================] - 0s 85ms/step - loss: 0.0357\n",
            "Epoch 93/220\n",
            "2/2 [==============================] - 0s 84ms/step - loss: 0.0269\n",
            "Epoch 94/220\n",
            "2/2 [==============================] - 0s 84ms/step - loss: 0.0353\n",
            "Epoch 95/220\n",
            "2/2 [==============================] - 0s 85ms/step - loss: 0.0340\n",
            "Epoch 96/220\n",
            "2/2 [==============================] - 0s 85ms/step - loss: 0.0361\n",
            "Epoch 97/220\n",
            "2/2 [==============================] - 0s 88ms/step - loss: 0.0374\n",
            "Epoch 98/220\n",
            "2/2 [==============================] - 0s 89ms/step - loss: 0.0340\n",
            "Epoch 99/220\n",
            "2/2 [==============================] - 0s 84ms/step - loss: 0.0480\n",
            "Epoch 100/220\n",
            "2/2 [==============================] - 0s 86ms/step - loss: 0.0318\n",
            "Epoch 101/220\n",
            "2/2 [==============================] - 0s 86ms/step - loss: 0.0407\n",
            "Epoch 102/220\n",
            "2/2 [==============================] - 0s 83ms/step - loss: 0.0341\n",
            "Epoch 103/220\n",
            "2/2 [==============================] - 0s 92ms/step - loss: 0.0376\n",
            "Epoch 104/220\n",
            "2/2 [==============================] - 0s 89ms/step - loss: 0.0321\n",
            "Epoch 105/220\n",
            "2/2 [==============================] - 0s 82ms/step - loss: 0.0328\n",
            "Epoch 106/220\n",
            "2/2 [==============================] - 0s 83ms/step - loss: 0.0336\n",
            "Epoch 107/220\n",
            "2/2 [==============================] - 0s 85ms/step - loss: 0.0363\n",
            "Epoch 108/220\n",
            "2/2 [==============================] - 0s 91ms/step - loss: 0.0345\n",
            "Epoch 109/220\n",
            "2/2 [==============================] - 0s 90ms/step - loss: 0.0303\n",
            "Epoch 110/220\n",
            "2/2 [==============================] - 0s 87ms/step - loss: 0.0329\n",
            "Epoch 111/220\n",
            "2/2 [==============================] - 0s 88ms/step - loss: 0.0335\n",
            "Epoch 112/220\n",
            "2/2 [==============================] - 0s 84ms/step - loss: 0.0319\n",
            "Epoch 113/220\n",
            "2/2 [==============================] - 0s 83ms/step - loss: 0.0320\n",
            "Epoch 114/220\n",
            "2/2 [==============================] - 0s 94ms/step - loss: 0.0356\n",
            "Epoch 115/220\n",
            "2/2 [==============================] - 0s 87ms/step - loss: 0.0324\n",
            "Epoch 116/220\n",
            "2/2 [==============================] - 0s 86ms/step - loss: 0.0356\n",
            "Epoch 117/220\n",
            "2/2 [==============================] - 0s 87ms/step - loss: 0.0315\n",
            "Epoch 118/220\n",
            "2/2 [==============================] - 0s 86ms/step - loss: 0.0336\n",
            "Epoch 119/220\n",
            "2/2 [==============================] - 0s 82ms/step - loss: 0.0339\n",
            "Epoch 120/220\n",
            "2/2 [==============================] - 0s 90ms/step - loss: 0.0343\n",
            "Epoch 121/220\n",
            "2/2 [==============================] - 0s 81ms/step - loss: 0.0305\n",
            "Epoch 122/220\n",
            "2/2 [==============================] - 0s 85ms/step - loss: 0.0285\n",
            "Epoch 123/220\n",
            "2/2 [==============================] - 0s 86ms/step - loss: 0.0390\n",
            "Epoch 124/220\n",
            "2/2 [==============================] - 0s 91ms/step - loss: 0.0339\n",
            "Epoch 125/220\n",
            "2/2 [==============================] - 0s 85ms/step - loss: 0.0375\n",
            "Epoch 126/220\n",
            "2/2 [==============================] - 0s 84ms/step - loss: 0.0373\n",
            "Epoch 127/220\n",
            "2/2 [==============================] - 0s 83ms/step - loss: 0.0296\n",
            "Epoch 128/220\n",
            "2/2 [==============================] - 0s 84ms/step - loss: 0.0297\n",
            "Epoch 129/220\n",
            "2/2 [==============================] - 0s 84ms/step - loss: 0.0312\n",
            "Epoch 130/220\n",
            "2/2 [==============================] - 0s 88ms/step - loss: 0.0336\n",
            "Epoch 131/220\n",
            "2/2 [==============================] - 0s 84ms/step - loss: 0.0298\n",
            "Epoch 132/220\n",
            "2/2 [==============================] - 0s 82ms/step - loss: 0.0348\n",
            "Epoch 133/220\n",
            "2/2 [==============================] - 0s 86ms/step - loss: 0.0357\n",
            "Epoch 134/220\n",
            "2/2 [==============================] - 0s 88ms/step - loss: 0.0326\n",
            "Epoch 135/220\n",
            "2/2 [==============================] - 0s 89ms/step - loss: 0.0248\n",
            "Epoch 136/220\n",
            "2/2 [==============================] - 0s 94ms/step - loss: 0.0323\n",
            "Epoch 137/220\n",
            "2/2 [==============================] - 0s 82ms/step - loss: 0.0310\n",
            "Epoch 138/220\n",
            "2/2 [==============================] - 0s 86ms/step - loss: 0.0333\n",
            "Epoch 139/220\n",
            "2/2 [==============================] - 0s 83ms/step - loss: 0.0247\n",
            "Epoch 140/220\n",
            "2/2 [==============================] - 0s 96ms/step - loss: 0.0284\n",
            "Epoch 141/220\n",
            "2/2 [==============================] - 0s 84ms/step - loss: 0.0337\n",
            "Epoch 142/220\n",
            "2/2 [==============================] - 0s 86ms/step - loss: 0.0275\n",
            "Epoch 143/220\n",
            "2/2 [==============================] - 0s 87ms/step - loss: 0.0268\n",
            "Epoch 144/220\n",
            "2/2 [==============================] - 0s 84ms/step - loss: 0.0319\n",
            "Epoch 145/220\n",
            "2/2 [==============================] - 0s 94ms/step - loss: 0.0390\n",
            "Epoch 146/220\n",
            "2/2 [==============================] - 0s 83ms/step - loss: 0.0326\n",
            "Epoch 147/220\n",
            "2/2 [==============================] - 0s 87ms/step - loss: 0.0232\n",
            "Epoch 148/220\n",
            "2/2 [==============================] - 0s 83ms/step - loss: 0.0333\n",
            "Epoch 149/220\n",
            "2/2 [==============================] - 0s 82ms/step - loss: 0.0312\n",
            "Epoch 150/220\n",
            "2/2 [==============================] - 0s 104ms/step - loss: 0.0275\n",
            "Epoch 151/220\n",
            "2/2 [==============================] - 0s 84ms/step - loss: 0.0372\n",
            "Epoch 152/220\n",
            "2/2 [==============================] - 0s 81ms/step - loss: 0.0271\n",
            "Epoch 153/220\n",
            "2/2 [==============================] - 0s 90ms/step - loss: 0.0373\n",
            "Epoch 154/220\n",
            "2/2 [==============================] - 0s 84ms/step - loss: 0.0318\n",
            "Epoch 155/220\n",
            "2/2 [==============================] - 0s 83ms/step - loss: 0.0268\n",
            "Epoch 156/220\n",
            "2/2 [==============================] - 0s 83ms/step - loss: 0.0339\n",
            "Epoch 157/220\n",
            "2/2 [==============================] - 0s 81ms/step - loss: 0.0292\n",
            "Epoch 158/220\n",
            "2/2 [==============================] - 0s 94ms/step - loss: 0.0299\n",
            "Epoch 159/220\n",
            "2/2 [==============================] - 0s 88ms/step - loss: 0.0302\n",
            "Epoch 160/220\n",
            "2/2 [==============================] - 0s 82ms/step - loss: 0.0280\n",
            "Epoch 161/220\n",
            "2/2 [==============================] - 0s 84ms/step - loss: 0.0321\n",
            "Epoch 162/220\n",
            "2/2 [==============================] - 0s 86ms/step - loss: 0.0311\n",
            "Epoch 163/220\n",
            "2/2 [==============================] - 0s 83ms/step - loss: 0.0330\n",
            "Epoch 164/220\n",
            "2/2 [==============================] - 0s 87ms/step - loss: 0.0284\n",
            "Epoch 165/220\n",
            "2/2 [==============================] - 0s 84ms/step - loss: 0.0277\n",
            "Epoch 166/220\n",
            "2/2 [==============================] - 0s 90ms/step - loss: 0.0258\n",
            "Epoch 167/220\n",
            "2/2 [==============================] - 0s 84ms/step - loss: 0.0269\n",
            "Epoch 168/220\n",
            "2/2 [==============================] - 0s 86ms/step - loss: 0.0250\n",
            "Epoch 169/220\n",
            "2/2 [==============================] - 0s 89ms/step - loss: 0.0255\n",
            "Epoch 170/220\n",
            "2/2 [==============================] - 0s 83ms/step - loss: 0.0329\n",
            "Epoch 171/220\n",
            "2/2 [==============================] - 0s 97ms/step - loss: 0.0282\n",
            "Epoch 172/220\n",
            "2/2 [==============================] - 0s 92ms/step - loss: 0.0278\n",
            "Epoch 173/220\n",
            "2/2 [==============================] - 0s 94ms/step - loss: 0.0208\n",
            "Epoch 174/220\n",
            "2/2 [==============================] - 0s 83ms/step - loss: 0.0274\n",
            "Epoch 175/220\n",
            "2/2 [==============================] - 0s 85ms/step - loss: 0.0272\n",
            "Epoch 176/220\n",
            "2/2 [==============================] - 0s 87ms/step - loss: 0.0217\n",
            "Epoch 177/220\n",
            "2/2 [==============================] - 0s 83ms/step - loss: 0.0249\n",
            "Epoch 178/220\n",
            "2/2 [==============================] - 0s 83ms/step - loss: 0.0241\n",
            "Epoch 179/220\n",
            "2/2 [==============================] - 0s 85ms/step - loss: 0.0274\n",
            "Epoch 180/220\n",
            "2/2 [==============================] - 0s 90ms/step - loss: 0.0254\n",
            "Epoch 181/220\n",
            "2/2 [==============================] - 0s 93ms/step - loss: 0.0380\n",
            "Epoch 182/220\n",
            "2/2 [==============================] - 0s 85ms/step - loss: 0.0249\n",
            "Epoch 183/220\n",
            "2/2 [==============================] - 0s 86ms/step - loss: 0.0251\n",
            "Epoch 184/220\n",
            "2/2 [==============================] - 0s 86ms/step - loss: 0.0277\n",
            "Epoch 185/220\n",
            "2/2 [==============================] - 0s 83ms/step - loss: 0.0233\n",
            "Epoch 186/220\n",
            "2/2 [==============================] - 0s 85ms/step - loss: 0.0289\n",
            "Epoch 187/220\n",
            "2/2 [==============================] - 0s 85ms/step - loss: 0.0270\n",
            "Epoch 188/220\n",
            "2/2 [==============================] - 0s 82ms/step - loss: 0.0234\n",
            "Epoch 189/220\n",
            "2/2 [==============================] - 0s 82ms/step - loss: 0.0262\n",
            "Epoch 190/220\n",
            "2/2 [==============================] - 0s 86ms/step - loss: 0.0247\n",
            "Epoch 191/220\n",
            "2/2 [==============================] - 0s 83ms/step - loss: 0.0280\n",
            "Epoch 192/220\n",
            "2/2 [==============================] - 0s 89ms/step - loss: 0.0265\n",
            "Epoch 193/220\n",
            "2/2 [==============================] - 0s 91ms/step - loss: 0.0297\n",
            "Epoch 194/220\n",
            "2/2 [==============================] - 0s 89ms/step - loss: 0.0238\n",
            "Epoch 195/220\n",
            "2/2 [==============================] - 0s 87ms/step - loss: 0.0348\n",
            "Epoch 196/220\n",
            "2/2 [==============================] - 0s 91ms/step - loss: 0.0253\n",
            "Epoch 197/220\n",
            "2/2 [==============================] - 0s 89ms/step - loss: 0.0304\n",
            "Epoch 198/220\n",
            "2/2 [==============================] - 0s 84ms/step - loss: 0.0235\n",
            "Epoch 199/220\n",
            "2/2 [==============================] - 0s 87ms/step - loss: 0.0232\n",
            "Epoch 200/220\n",
            "2/2 [==============================] - 0s 83ms/step - loss: 0.0253\n",
            "Epoch 201/220\n",
            "2/2 [==============================] - 0s 84ms/step - loss: 0.0250\n",
            "Epoch 202/220\n",
            "2/2 [==============================] - 0s 86ms/step - loss: 0.0228\n",
            "Epoch 203/220\n",
            "2/2 [==============================] - 0s 83ms/step - loss: 0.0248\n",
            "Epoch 204/220\n",
            "2/2 [==============================] - 0s 86ms/step - loss: 0.0260\n",
            "Epoch 205/220\n",
            "2/2 [==============================] - 0s 87ms/step - loss: 0.0256\n",
            "Epoch 206/220\n",
            "2/2 [==============================] - 0s 88ms/step - loss: 0.0195\n",
            "Epoch 207/220\n",
            "2/2 [==============================] - 0s 88ms/step - loss: 0.0226\n",
            "Epoch 208/220\n",
            "2/2 [==============================] - 0s 87ms/step - loss: 0.0244\n",
            "Epoch 209/220\n",
            "2/2 [==============================] - 0s 86ms/step - loss: 0.0242\n",
            "Epoch 210/220\n",
            "2/2 [==============================] - 0s 82ms/step - loss: 0.0231\n",
            "Epoch 211/220\n",
            "2/2 [==============================] - 0s 84ms/step - loss: 0.0194\n",
            "Epoch 212/220\n",
            "2/2 [==============================] - 0s 84ms/step - loss: 0.0265\n",
            "Epoch 213/220\n",
            "2/2 [==============================] - 0s 86ms/step - loss: 0.0250\n",
            "Epoch 214/220\n",
            "2/2 [==============================] - 0s 84ms/step - loss: 0.0254\n",
            "Epoch 215/220\n",
            "2/2 [==============================] - 0s 85ms/step - loss: 0.0237\n",
            "Epoch 216/220\n",
            "2/2 [==============================] - 0s 85ms/step - loss: 0.0277\n",
            "Epoch 217/220\n",
            "2/2 [==============================] - 0s 87ms/step - loss: 0.0214\n",
            "Epoch 218/220\n",
            "2/2 [==============================] - 0s 92ms/step - loss: 0.0249\n",
            "Epoch 219/220\n",
            "2/2 [==============================] - 0s 94ms/step - loss: 0.0284\n",
            "Epoch 220/220\n",
            "2/2 [==============================] - 0s 87ms/step - loss: 0.0262\n"
          ],
          "name": "stdout"
        },
        {
          "output_type": "execute_result",
          "data": {
            "text/plain": [
              "<tensorflow.python.keras.callbacks.History at 0x7f951af33b70>"
            ]
          },
          "metadata": {
            "tags": []
          },
          "execution_count": 7
        }
      ]
    },
    {
      "cell_type": "markdown",
      "metadata": {
        "id": "ZxUizot9R-FV"
      },
      "source": [
        "##Test prep"
      ]
    },
    {
      "cell_type": "markdown",
      "metadata": {
        "id": "a4913mnhU6vc"
      },
      "source": [
        "Preparing the test data."
      ]
    },
    {
      "cell_type": "code",
      "metadata": {
        "colab": {
          "base_uri": "https://localhost:8080/"
        },
        "id": "LZSJYjazSFuG",
        "outputId": "95ce5cd4-5e73-48b6-d793-a841ca67461a"
      },
      "source": [
        "print(len(data_test))\n",
        "data_total=pd.concat((data_train['capacity'], data_test['capacity']),axis=0)\n",
        "inputs=data_total[len(data_total)-len(data_test)-10:].values\n",
        "inputs=inputs.reshape(-1,1)\n",
        "inputs=sc.transform(inputs)"
      ],
      "execution_count": null,
      "outputs": [
        {
          "output_type": "stream",
          "text": [
            "119\n"
          ],
          "name": "stdout"
        }
      ]
    },
    {
      "cell_type": "markdown",
      "metadata": {
        "id": "kSl5GKXTSIcu"
      },
      "source": [
        "##Testing"
      ]
    },
    {
      "cell_type": "code",
      "metadata": {
        "colab": {
          "base_uri": "https://localhost:8080/"
        },
        "id": "KHwXUlciSKBx",
        "outputId": "1f357ab8-6c18-4835-e9d2-c4d1fad41fc7"
      },
      "source": [
        "X_test=[]\n",
        "for i in range(10,129):\n",
        "    X_test.append(inputs[i-10:i,0])\n",
        "X_test=np.array(X_test)\n",
        "X_test=np.reshape(X_test,(X_test.shape[0],X_test.shape[1],1))\n",
        "pred=regress.predict(X_test)\n",
        "print(pred.shape)\n",
        "pred=sc.inverse_transform(pred)\n",
        "pred=pred[:,0]\n",
        "tests=data_test.iloc[:,1:2]\n",
        "rmse = np.sqrt(mean_squared_error(tests, pred))\n",
        "print('Test RMSE: %.3f' % rmse)\n",
        "metrics.r2_score(tests,pred)"
      ],
      "execution_count": null,
      "outputs": [
        {
          "output_type": "stream",
          "text": [
            "(119, 1)\n",
            "Test RMSE: 0.064\n"
          ],
          "name": "stdout"
        },
        {
          "output_type": "execute_result",
          "data": {
            "text/plain": [
              "0.7757345080685858"
            ]
          },
          "metadata": {
            "tags": []
          },
          "execution_count": 9
        }
      ]
    },
    {
      "cell_type": "markdown",
      "metadata": {
        "id": "Izqy5YHwSNJo"
      },
      "source": [
        "##Visual rep of results"
      ]
    },
    {
      "cell_type": "code",
      "metadata": {
        "colab": {
          "base_uri": "https://localhost:8080/",
          "height": 758
        },
        "id": "uT-GpkZ_STsX",
        "outputId": "5a2a0473-e9fd-4234-ae26-8a75f9db6209"
      },
      "source": [
        "ln = len(data_train)\n",
        "data_test['pre']=pred\n",
        "plot_df = dataset.loc[(dataset['cycle']>=1),['cycle','capacity']]\n",
        "plot_per = data_test.loc[(data_test['cycle']>=ln),['cycle','pre']]\n",
        "plt.figure(figsize=(16, 10))\n",
        "plt.plot(plot_df['cycle'], plot_df['capacity'], label=\"Actual data\", color='blue')\n",
        "plt.plot(plot_per['cycle'],plot_per['pre'],label=\"Prediction data\", color='red')\n",
        "#Draw threshold\n",
        "plt.plot([0.,168], [1.38, 1.38],dashes=[6, 2], label=\"treshold\")\n",
        "plt.ylabel('Capacity')\n",
        "# make x-axis ticks legible\n",
        "adf = plt.gca().get_xaxis().get_major_formatter()\n",
        "plt.xlabel('cycle')\n",
        "plt.legend()\n",
        "plt.title('Discharge B0005 (prediction) start in cycle 50 -RULe=-8, window-size=10')"
      ],
      "execution_count": null,
      "outputs": [
        {
          "output_type": "stream",
          "text": [
            "/usr/local/lib/python3.6/dist-packages/ipykernel_launcher.py:2: SettingWithCopyWarning: \n",
            "A value is trying to be set on a copy of a slice from a DataFrame.\n",
            "Try using .loc[row_indexer,col_indexer] = value instead\n",
            "\n",
            "See the caveats in the documentation: https://pandas.pydata.org/pandas-docs/stable/user_guide/indexing.html#returning-a-view-versus-a-copy\n",
            "  \n"
          ],
          "name": "stderr"
        },
        {
          "output_type": "execute_result",
          "data": {
            "text/plain": [
              "Text(0.5, 1.0, 'Discharge B0005 (prediction) start in cycle 50 -RULe=-8, window-size=10')"
            ]
          },
          "metadata": {
            "tags": []
          },
          "execution_count": 10
        },
        {
          "output_type": "display_data",
          "data": {
            "image/png": "[encoded data removed]",
            "text/plain": [
              "<Figure size 1152x720 with 1 Axes>"
            ]
          },
          "metadata": {
            "tags": [],
            "needs_background": "light"
          }
        }
      ]
    },
    {
      "cell_type": "code",
      "metadata": {
        "colab": {
          "base_uri": "https://localhost:8080/"
        },
        "id": "WDTZuNXoThUV",
        "outputId": "b284007c-3967-4cb7-ef0a-9951024d61cd"
      },
      "source": [
        "pred=0\n",
        "Afil=0\n",
        "Pfil=0\n",
        "a=data_test['capacity'].values\n",
        "b=data_test['pre'].values\n",
        "j=0\n",
        "k=0\n",
        "for i in range(len(a)):\n",
        "    actual=a[i]\n",
        "    \n",
        "    if actual<=1.38:\n",
        "        j=i\n",
        "        Afil=j\n",
        "        break\n",
        "for i in range(len(a)):\n",
        "    pred=b[i]\n",
        "    if pred< 1.38:\n",
        "        k=i\n",
        "        Pfil=k\n",
        "        break\n",
        "print(\"The Actual fail at cycle number: \"+ str(Afil+ln))\n",
        "print(\"The prediction fail at cycle number: \"+ str(Pfil+ln))\n",
        "RULerror=Pfil-Afil\n",
        "print(\"The error of RUL= \"+ str(RULerror)+ \" Cycle(s)\")"
      ],
      "execution_count": null,
      "outputs": [
        {
          "output_type": "stream",
          "text": [
            "The Actual fail at cycle number: 128\n",
            "The prediction fail at cycle number: 119\n",
            "The error of RUL= -9 Cycle(s)\n"
          ],
          "name": "stdout"
        }
      ]
    }
  ]
}